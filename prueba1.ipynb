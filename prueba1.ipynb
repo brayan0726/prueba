{
 "cells": [
  {
   "cell_type": "code",
   "execution_count": 12,
   "id": "ff70517a",
   "metadata": {},
   "outputs": [],
   "source": [
    "import pandas as pd"
   ]
  },
  {
   "cell_type": "code",
   "execution_count": 24,
   "id": "45b6fe5a",
   "metadata": {},
   "outputs": [],
   "source": [
    "import numpy as np"
   ]
  },
  {
   "cell_type": "code",
   "execution_count": 10,
   "id": "21aa32ca",
   "metadata": {},
   "outputs": [],
   "source": [
    "pd_vector = pd.DataFrame ({\"num\" : range (1,106)})"
   ]
  },
  {
   "cell_type": "code",
   "execution_count": 18,
   "id": "4a919d1c",
   "metadata": {},
   "outputs": [
    {
     "data": {
      "text/html": [
       "<div>\n",
       "<style scoped>\n",
       "    .dataframe tbody tr th:only-of-type {\n",
       "        vertical-align: middle;\n",
       "    }\n",
       "\n",
       "    .dataframe tbody tr th {\n",
       "        vertical-align: top;\n",
       "    }\n",
       "\n",
       "    .dataframe thead th {\n",
       "        text-align: right;\n",
       "    }\n",
       "</style>\n",
       "<table border=\"1\" class=\"dataframe\">\n",
       "  <thead>\n",
       "    <tr style=\"text-align: right;\">\n",
       "      <th></th>\n",
       "      <th>num</th>\n",
       "    </tr>\n",
       "  </thead>\n",
       "  <tbody>\n",
       "    <tr>\n",
       "      <th>0</th>\n",
       "      <td>1</td>\n",
       "    </tr>\n",
       "    <tr>\n",
       "      <th>1</th>\n",
       "      <td>2</td>\n",
       "    </tr>\n",
       "    <tr>\n",
       "      <th>2</th>\n",
       "      <td>3</td>\n",
       "    </tr>\n",
       "    <tr>\n",
       "      <th>3</th>\n",
       "      <td>4</td>\n",
       "    </tr>\n",
       "    <tr>\n",
       "      <th>4</th>\n",
       "      <td>5</td>\n",
       "    </tr>\n",
       "    <tr>\n",
       "      <th>...</th>\n",
       "      <td>...</td>\n",
       "    </tr>\n",
       "    <tr>\n",
       "      <th>100</th>\n",
       "      <td>101</td>\n",
       "    </tr>\n",
       "    <tr>\n",
       "      <th>101</th>\n",
       "      <td>102</td>\n",
       "    </tr>\n",
       "    <tr>\n",
       "      <th>102</th>\n",
       "      <td>103</td>\n",
       "    </tr>\n",
       "    <tr>\n",
       "      <th>103</th>\n",
       "      <td>104</td>\n",
       "    </tr>\n",
       "    <tr>\n",
       "      <th>104</th>\n",
       "      <td>105</td>\n",
       "    </tr>\n",
       "  </tbody>\n",
       "</table>\n",
       "<p>105 rows × 1 columns</p>\n",
       "</div>"
      ],
      "text/plain": [
       "     num\n",
       "0      1\n",
       "1      2\n",
       "2      3\n",
       "3      4\n",
       "4      5\n",
       "..   ...\n",
       "100  101\n",
       "101  102\n",
       "102  103\n",
       "103  104\n",
       "104  105\n",
       "\n",
       "[105 rows x 1 columns]"
      ]
     },
     "execution_count": 18,
     "metadata": {},
     "output_type": "execute_result"
    }
   ],
   "source": [
    "pd_vector"
   ]
  },
  {
   "cell_type": "code",
   "execution_count": 6,
   "id": "0ff91507",
   "metadata": {},
   "outputs": [],
   "source": [
    "import matplotlib.pyplot as plt"
   ]
  },
  {
   "cell_type": "code",
   "execution_count": 15,
   "id": "cce8693f",
   "metadata": {},
   "outputs": [
    {
     "data": {
      "text/plain": [
       "<AxesSubplot:>"
      ]
     },
     "execution_count": 15,
     "metadata": {},
     "output_type": "execute_result"
    },
    {
     "data": {
      "image/png": "[encoded data removed]",
      "text/plain": [
       "<Figure size 432x288 with 1 Axes>"
      ]
     },
     "metadata": {
      "needs_background": "light"
     },
     "output_type": "display_data"
    }
   ],
   "source": [
    "pd_vector.plot()"
   ]
  },
  {
   "cell_type": "code",
   "execution_count": 17,
   "id": "0815bb67",
   "metadata": {},
   "outputs": [],
   "source": [
    "import seaborn as sns\n"
   ]
  },
  {
   "cell_type": "code",
   "execution_count": 22,
   "id": "62ea5140",
   "metadata": {},
   "outputs": [],
   "source": [
    "Q1=pd_vector.quantile(0.25)\n"
   ]
  },
  {
   "cell_type": "markdown",
   "id": "d3f2cf2d",
   "metadata": {},
   "source": []
  },
  {
   "cell_type": "code",
   "execution_count": 25,
   "id": "1707f9bc",
   "metadata": {},
   "outputs": [],
   "source": [
    "Varianza=np.var(Q1)"
   ]
  },
  {
   "cell_type": "code",
   "execution_count": 26,
   "id": "42e1852d",
   "metadata": {},
   "outputs": [],
   "source": [
    "desviacion=np.std(Q1)"
   ]
  },
  {
   "cell_type": "markdown",
   "id": "0ed3007d",
   "metadata": {},
   "source": []
  },
  {
   "cell_type": "code",
   "execution_count": 27,
   "id": "aaaa64f4",
   "metadata": {},
   "outputs": [],
   "source": [
    "Q2=pd_vector.quantile(0.50)"
   ]
  },
  {
   "cell_type": "code",
   "execution_count": 28,
   "id": "aeb47b1c",
   "metadata": {},
   "outputs": [],
   "source": [
    "Varianza=np.var(Q2)"
   ]
  },
  {
   "cell_type": "code",
   "execution_count": 29,
   "id": "3c83c0e3",
   "metadata": {},
   "outputs": [],
   "source": [
    "desviacion=np.std(Q2)"
   ]
  },
  {
   "cell_type": "code",
   "execution_count": 30,
   "id": "07c55b5e",
   "metadata": {},
   "outputs": [],
   "source": [
    "Q3=pd_vector.quantile(0.75)"
   ]
  },
  {
   "cell_type": "code",
   "execution_count": 31,
   "id": "3c9e37ef",
   "metadata": {},
   "outputs": [],
   "source": [
    "varianza=np.var(Q3)"
   ]
  },
  {
   "cell_type": "code",
   "execution_count": 32,
   "id": "a8140aff",
   "metadata": {},
   "outputs": [],
   "source": [
    "desviacion =np.std(Q3)"
   ]
  },
  {
   "cell_type": "code",
   "execution_count": 33,
   "id": "ab6ad87a",
   "metadata": {},
   "outputs": [],
   "source": [
    "Q4=pd_vector.quantile(1.00)"
   ]
  },
  {
   "cell_type": "code",
   "execution_count": 34,
   "id": "72a212c0",
   "metadata": {},
   "outputs": [],
   "source": [
    "varianza=np.var(Q4)"
   ]
  },
  {
   "cell_type": "code",
   "execution_count": 35,
   "id": "0820b084",
   "metadata": {},
   "outputs": [],
   "source": [
    "desviacion=np.std(Q4)"
   ]
  },
  {
   "cell_type": "code",
   "execution_count": null,
   "id": "842fd3dc",
   "metadata": {},
   "outputs": [],
   "source": [
    "Q1 es el valor en el cual se encuentra por debajo del 25% del dataset \n",
    "Q2 es el valor en el cual se encuentra por debajo del 50% del dataset\n",
    "q3 es el valor en el cual se encuentra por debajo del 75% del dataset\n",
    "Q4 es el valor en el cual se encuentra por debajo del 100 del datset"
   ]
  }
 ],
 "metadata": {
  "kernelspec": {
   "display_name": "Python 3 (ipykernel)",
   "language": "python",
   "name": "python3"
  },
  "language_info": {
   "codemirror_mode": {
    "name": "ipython",
    "version": 3
   },
   "file_extension": ".py",
   "mimetype": "text/x-python",
   "name": "python",
   "nbconvert_exporter": "python",
   "pygments_lexer": "ipython3",
   "version": "3.9.12"
  }
 },
 "nbformat": 4,
 "nbformat_minor": 5
}
